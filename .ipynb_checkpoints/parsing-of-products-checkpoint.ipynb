{
 "cells": [
  {
   "cell_type": "markdown",
   "id": "dee89873-b6ac-475d-8e3f-bc1c4c00c637",
   "metadata": {},
   "source": [
    "Freelance заказ, клиенту требуется собрать все данные о калорийности продуктов со страницы сайта"
   ]
  },
  {
   "cell_type": "code",
   "execution_count": 25,
   "id": "f527460c-f282-4056-8d77-8c67ce3526a4",
   "metadata": {},
   "outputs": [
    {
     "name": "stdout",
     "output_type": "stream",
     "text": [
      "Requirement already satisfied: beautifulsoup4 in c:\\users\\user\\appdata\\local\\programs\\python\\python312\\lib\\site-packages (4.12.3)\n",
      "Requirement already satisfied: requests in c:\\users\\user\\appdata\\local\\programs\\python\\python312\\lib\\site-packages (2.32.3)\n",
      "Requirement already satisfied: lxml in c:\\users\\user\\appdata\\local\\programs\\python\\python312\\lib\\site-packages (5.2.2)\n",
      "Requirement already satisfied: soupsieve>1.2 in c:\\users\\user\\appdata\\local\\programs\\python\\python312\\lib\\site-packages (from beautifulsoup4) (2.5)\n",
      "Requirement already satisfied: charset-normalizer<4,>=2 in c:\\users\\user\\appdata\\local\\programs\\python\\python312\\lib\\site-packages (from requests) (3.3.2)\n",
      "Requirement already satisfied: idna<4,>=2.5 in c:\\users\\user\\appdata\\local\\programs\\python\\python312\\lib\\site-packages (from requests) (3.7)\n",
      "Requirement already satisfied: urllib3<3,>=1.21.1 in c:\\users\\user\\appdata\\local\\programs\\python\\python312\\lib\\site-packages (from requests) (2.2.2)\n",
      "Requirement already satisfied: certifi>=2017.4.17 in c:\\users\\user\\appdata\\local\\programs\\python\\python312\\lib\\site-packages (from requests) (2024.6.2)\n"
     ]
    }
   ],
   "source": [
    "!pip install beautifulsoup4 requests lxml"
   ]
  },
  {
   "cell_type": "code",
   "execution_count": 26,
   "id": "a73f1df8-bbac-4034-8bf6-77a92f85df67",
   "metadata": {},
   "outputs": [],
   "source": [
    "import requests\n",
    "from bs4 import BeautifulSoup\n",
    "import csv\n",
    "import random\n",
    "from time import sleep\n",
    "import json"
   ]
  },
  {
   "cell_type": "code",
   "execution_count": 27,
   "id": "4553505c-7943-4819-857b-eaff8391e906",
   "metadata": {},
   "outputs": [
    {
     "data": {
      "text/plain": [
       "'https://health-diet.ru/table_calorie/?utm_source=leftMenu&utm_medium=table_calorie'"
      ]
     },
     "execution_count": 27,
     "metadata": {},
     "output_type": "execute_result"
    }
   ],
   "source": [
    "url = 'https://health-diet.ru/table_calorie/?utm_source=leftMenu&utm_medium=table_calorie'\n",
    "url"
   ]
  },
  {
   "cell_type": "code",
   "execution_count": 28,
   "id": "b5774952-a41d-4e6b-8579-197487a33ef3",
   "metadata": {},
   "outputs": [
    {
     "data": {
      "text/plain": [
       "<Response [200]>"
      ]
     },
     "execution_count": 28,
     "metadata": {},
     "output_type": "execute_result"
    }
   ],
   "source": [
    "request = requests.get(url)\n",
    "request"
   ]
  },
  {
   "cell_type": "code",
   "execution_count": 29,
   "id": "bb578698-8037-4700-b294-32514ed73e9f",
   "metadata": {},
   "outputs": [],
   "source": [
    "src = request.text\n",
    "# src"
   ]
  },
  {
   "cell_type": "code",
   "execution_count": 6,
   "id": "ed4cc515-bbec-4530-bbfe-e90982d2f868",
   "metadata": {},
   "outputs": [
    {
     "data": {
      "text/plain": [
       "<_io.TextIOWrapper name='health-diet.html' mode='w' encoding='utf-8'>"
      ]
     },
     "execution_count": 6,
     "metadata": {},
     "output_type": "execute_result"
    }
   ],
   "source": [
    "with open('health-diet.html', 'w', encoding='utf-8') as file:\n",
    "    file.write(src)\n",
    "file"
   ]
  },
  {
   "cell_type": "code",
   "execution_count": 7,
   "id": "32152e8b-24a8-4acd-9012-cf7ad55b0655",
   "metadata": {},
   "outputs": [],
   "source": [
    "with open('health-diet.html', encoding='utf-8') as file:\n",
    "    src = file.read()"
   ]
  },
  {
   "cell_type": "code",
   "execution_count": 30,
   "id": "328ce056-12c5-40dd-806f-7ca1f4b88205",
   "metadata": {},
   "outputs": [],
   "source": [
    "# src"
   ]
  },
  {
   "cell_type": "code",
   "execution_count": 31,
   "id": "54401eb9-802f-408e-9fab-9b3d0cd8a55a",
   "metadata": {},
   "outputs": [],
   "source": [
    "soup = BeautifulSoup(src, 'lxml')\n",
    "# soup"
   ]
  },
  {
   "cell_type": "code",
   "execution_count": 10,
   "id": "f79ddc54-54fa-4f76-8caa-68451f2098b0",
   "metadata": {},
   "outputs": [
    {
     "data": {
      "text/plain": [
       "[<a class=\"mzr-tc-group-item-href\" href=\"/base_of_food/food_24507/\" title=\"Химический состав продукта: Баранина и дичь\">Баранина и дичь</a>,\n",
       " <a class=\"mzr-tc-group-item-href\" href=\"/base_of_food/food_24523/\" title=\"Химический состав продукта: Бобовые\">Бобовые</a>,\n",
       " <a class=\"mzr-tc-group-item-href\" href=\"/base_of_food/food_24509/\" title=\"Химический состав продукта: Вода и напитки\">Вода и напитки</a>,\n",
       " <a class=\"mzr-tc-group-item-href\" href=\"/base_of_food/food_24502/\" title=\"Химический состав продукта: Говядина и телятина\">Говядина и телятина</a>,\n",
       " <a class=\"mzr-tc-group-item-href\" href=\"/base_of_food/food_24513/\" title=\"Химический состав продукта: Грибы\">Грибы</a>,\n",
       " <a class=\"mzr-tc-group-item-href\" href=\"/base_of_food/food_24526/\" title=\"Химический состав продукта: Детское питание\">Детское питание</a>,\n",
       " <a class=\"mzr-tc-group-item-href\" href=\"/base_of_food/food_24515/\" title=\"Химический состав продукта: Жиры и масла\">Жиры и масла</a>,\n",
       " <a class=\"mzr-tc-group-item-href\" href=\"/base_of_food/food_24525/\" title=\"Химический состав продукта: Кондитерские изделия\">Кондитерские изделия</a>,\n",
       " <a class=\"mzr-tc-group-item-href\" href=\"/base_of_food/food_24522/\" title=\"Химический состав продукта: Крупы, мука, макароны\">Крупы, мука, макароны</a>,\n",
       " <a class=\"mzr-tc-group-item-href\" href=\"/base_of_food/food_24519/\" title=\"Химический состав продукта: Молочные продукты\">Молочные продукты</a>,\n",
       " <a class=\"mzr-tc-group-item-href\" href=\"/base_of_food/food_24508/\" title=\"Химический состав продукта: Напитки алкогольные\">Напитки алкогольные</a>,\n",
       " <a class=\"mzr-tc-group-item-href\" href=\"/base_of_food/food_24512/\" title=\"Химический состав продукта: Овощи и зелень\">Овощи и зелень</a>,\n",
       " <a class=\"mzr-tc-group-item-href\" href=\"/base_of_food/food_24517/\" title=\"Химический состав продукта: Орехи и семена\">Орехи и семена</a>,\n",
       " <a class=\"mzr-tc-group-item-href\" href=\"/base_of_food/food_24506/\" title=\"Химический состав продукта: Полуфабрикаты\">Полуфабрикаты</a>,\n",
       " <a class=\"mzr-tc-group-item-href\" href=\"/base_of_food/food_24501/\" title=\"Химический состав продукта: Птица\">Птица</a>,\n",
       " <a class=\"mzr-tc-group-item-href\" href=\"/base_of_food/food_24527/\" title=\"Химический состав продукта: Ресторанная еда\">Ресторанная еда</a>,\n",
       " <a class=\"mzr-tc-group-item-href\" href=\"/base_of_food/food_24518/\" title=\"Химический состав продукта: Рыба и морепродукты\">Рыба и морепродукты</a>,\n",
       " <a class=\"mzr-tc-group-item-href\" href=\"/base_of_food/food_24503/\" title=\"Химический состав продукта: Свинина\">Свинина</a>,\n",
       " <a class=\"mzr-tc-group-item-href\" href=\"/base_of_food/food_24528/\" title=\"Химический состав продукта: Снеки\">Снеки</a>,\n",
       " <a class=\"mzr-tc-group-item-href\" href=\"/base_of_food/food_24511/\" title=\"Химический состав продукта: Соки\">Соки</a>,\n",
       " <a class=\"mzr-tc-group-item-href\" href=\"/base_of_food/food_24504/\" title=\"Химический состав продукта: Сосиски и колбаса\">Сосиски и колбаса</a>,\n",
       " <a class=\"mzr-tc-group-item-href\" href=\"/base_of_food/food_24514/\" title=\"Химический состав продукта: Травы, специи и соусы\">Травы, специи и соусы</a>,\n",
       " <a class=\"mzr-tc-group-item-href\" href=\"/base_of_food/food_24529/\" title=\"Химический состав продукта: Фаст-фуд\">Фаст-фуд</a>,\n",
       " <a class=\"mzr-tc-group-item-href\" href=\"/base_of_food/food_24516/\" title=\"Химический состав продукта: Фрукты и ягоды\">Фрукты и ягоды</a>,\n",
       " <a class=\"mzr-tc-group-item-href\" href=\"/base_of_food/food_24524/\" title=\"Химический состав продукта: Хлеб и выпечка\">Хлеб и выпечка</a>,\n",
       " <a class=\"mzr-tc-group-item-href\" href=\"/base_of_food/food_24520/\" title=\"Химический состав продукта: Яйца и продукты из яиц\">Яйца и продукты из яиц</a>,\n",
       " <a class=\"mzr-tc-group-item-href\" href=\"/base_of_meals/meals_21252/\" title=\"Химический состав продукта: Варенье и джемы\">Варенье и джемы</a>,\n",
       " <a class=\"mzr-tc-group-item-href\" href=\"/base_of_meals/meals_21243/\" title=\"Химический состав продукта: Вторые блюда\">Вторые блюда</a>,\n",
       " <a class=\"mzr-tc-group-item-href\" href=\"/base_of_meals/meals_21249/\" title=\"Химический состав продукта: Выпечка\">Выпечка</a>,\n",
       " <a class=\"mzr-tc-group-item-href\" href=\"/base_of_meals/meals_21244/\" title=\"Химический состав продукта: Гарниры\">Гарниры</a>,\n",
       " <a class=\"mzr-tc-group-item-href\" href=\"/base_of_meals/meals_21245/\" title=\"Химический состав продукта: Десерты\">Десерты</a>,\n",
       " <a class=\"mzr-tc-group-item-href\" href=\"/base_of_meals/meals_21254/\" title=\"Химический состав продукта: Заготовки\">Заготовки</a>,\n",
       " <a class=\"mzr-tc-group-item-href\" href=\"/base_of_meals/meals_21250/\" title=\"Химический состав продукта: Закуски\">Закуски</a>,\n",
       " <a class=\"mzr-tc-group-item-href\" href=\"/base_of_meals/meals_21247/\" title=\"Химический состав продукта: Каши\">Каши</a>,\n",
       " <a class=\"mzr-tc-group-item-href\" href=\"/base_of_meals/meals_21248/\" title=\"Химический состав продукта: Напитки\">Напитки</a>,\n",
       " <a class=\"mzr-tc-group-item-href\" href=\"/base_of_meals/meals_21242/\" title=\"Химический состав продукта: Первые блюда\">Первые блюда</a>,\n",
       " <a class=\"mzr-tc-group-item-href\" href=\"/base_of_meals/meals_21253/\" title=\"Химический состав продукта: Полуфабрикаты\">Полуфабрикаты</a>,\n",
       " <a class=\"mzr-tc-group-item-href\" href=\"/base_of_meals/meals_21241/\" title=\"Химический состав продукта: Салаты\">Салаты</a>,\n",
       " <a class=\"mzr-tc-group-item-href\" href=\"/base_of_meals/meals_21251/\" title=\"Химический состав продукта: Соусы и заправки\">Соусы и заправки</a>,\n",
       " <a class=\"mzr-tc-group-item-href\" href=\"/base_of_food/food_108930/\" title=\"Химический состав продукта: Campina\">Campina</a>,\n",
       " <a class=\"mzr-tc-group-item-href\" href=\"/base_of_food/food_103503/\" title=\"Химический состав продукта: Coca-Cola\">Coca-Cola</a>,\n",
       " <a class=\"mzr-tc-group-item-href\" href=\"/base_of_food/food_120438/\" title=\"Химический состав продукта: Danone\">Danone</a>,\n",
       " <a class=\"mzr-tc-group-item-href\" href=\"/base_of_food/food_120566/\" title=\"Химический состав продукта: KFC Ростик'c\">KFC Ростик'c</a>,\n",
       " <a class=\"mzr-tc-group-item-href\" href=\"/base_of_food/food_111530/\" title=\"Химический состав продукта: Lay's\">Lay's</a>,\n",
       " <a class=\"mzr-tc-group-item-href\" href=\"/base_of_food/food_109145/\" title=\"Химический состав продукта: Mars\">Mars</a>,\n",
       " <a class=\"mzr-tc-group-item-href\" href=\"/base_of_food/food_107024/\" title=\"Химический состав продукта: Nestle\">Nestle</a>,\n",
       " <a class=\"mzr-tc-group-item-href\" href=\"/base_of_food/food_120802/\" title=\"Химический состав продукта: Subway\">Subway</a>,\n",
       " <a class=\"mzr-tc-group-item-href\" href=\"/base_of_food/food_100481/\" title=\"Химический состав продукта: Ашан\">Ашан</a>,\n",
       " <a class=\"mzr-tc-group-item-href\" href=\"/base_of_food/food_102398/\" title=\"Химический состав продукта: Бондюэль\">Бондюэль</a>,\n",
       " <a class=\"mzr-tc-group-item-href\" href=\"/base_of_food/food_120310/\" title=\"Химический состав продукта: Крошка-Картошка\">Крошка-Картошка</a>,\n",
       " <a class=\"mzr-tc-group-item-href\" href=\"/base_of_food/food_124912/\" title=\"Химический состав продукта: Макдоналдс (McDonalds)\">Макдоналдс (McDonalds)</a>,\n",
       " <a class=\"mzr-tc-group-item-href\" href=\"/base_of_food/food_121338/\" title=\"Химический состав продукта: Пятерочка\">Пятерочка</a>,\n",
       " <a class=\"mzr-tc-group-item-href\" href=\"/base_of_food/food_114851/\" title=\"Химический состав продукта: Роллтон\">Роллтон</a>,\n",
       " <a class=\"mzr-tc-group-item-href\" href=\"/base_of_food/food_124180/\" title=\"Химический состав продукта: Черкизово\">Черкизово</a>,\n",
       " <a class=\"mzr-tc-group-item-href\" href=\"/base_of_food/food_117741/\" title=\"Химический состав продукта: Яшкино\">Яшкино</a>]"
      ]
     },
     "execution_count": 10,
     "metadata": {},
     "output_type": "execute_result"
    }
   ],
   "source": [
    "all_products_tags = soup.find_all(class_='mzr-tc-group-item-href')\n",
    "all_products_tags"
   ]
  },
  {
   "cell_type": "code",
   "execution_count": 19,
   "id": "c5c7a70c-7c64-435b-9f8f-2601e2e7957a",
   "metadata": {},
   "outputs": [],
   "source": [
    "# product_title_calories_json = {}\n",
    "# with open('product_title_calories_json.json', 'w', encoding='utf-8') as file:\n",
    "#     json.dump(product_title_calories_json, file, indent=4, ensure_ascii=False)"
   ]
  },
  {
   "cell_type": "code",
   "execution_count": null,
   "id": "a6cdac6b-5a52-4ffd-a8ab-97b91cb5cc96",
   "metadata": {},
   "outputs": [],
   "source": [
    "for hyperlink in all_products_tags:\n",
    "        href = 'https://health-diet.ru' + hyperlink['href']\n",
    "        name = hyperlink.text\n",
    "\n",
    "        replace_this_characters = [',', ' ', '-', \"'\"] # хочу заменить такие чары на \"_\"\n",
    "        for char in replace_this_characters:\n",
    "            if char in name:\n",
    "                name = name.replace(char, '_')\n",
    "        \n",
    "        request = requests.get(href)\n",
    "        src = request.text # full html code, in string format, stored here\n",
    "    \n",
    "        soup = BeautifulSoup(src, 'lxml')\n",
    "\n",
    "        # Проверяем на наличие таблицы, вдруг выйдет \"страница не наайдена\"\n",
    "        alert = soup.find(class_='uk-alert-danger')\n",
    "        if alert is not None:\n",
    "            continue\n",
    "    \n",
    "        theads = soup.find(class_='mzr-tc-group-table').find('thead').find_all('th')\n",
    "        product = theads[0].text\n",
    "        calories = theads[1].text\n",
    "\n",
    "        with open('product_title_calories_csv.csv', 'w', encoding='utf-8') as file:\n",
    "            writer = csv.writer(file)\n",
    "            writer.writerow(\n",
    "                [product, \n",
    "                 calories]\n",
    "            )\n",
    "            \n",
    "        tbody = soup.find(class_='mzr-tc-group-table').find('tbody').find_all('tr')\n",
    "\n",
    "        product_title_calories = []\n",
    "        for tr in tbody:\n",
    "            tds = tr.find_all('td')\n",
    "            title = tds[0].find('a').text\n",
    "            calories = tds[1].text\n",
    "\n",
    "            product_title_calories.append({\n",
    "                'Title': title,\n",
    "                'Calories': calories\n",
    "            })\n",
    "\n",
    "            with open('product_title_calories_csv.csv', 'a', encoding='utf-8') as file:\n",
    "                writer = csv.writer(file)\n",
    "                writer.writerow(\n",
    "                    [title, \n",
    "                     calories\n",
    "                    ]\n",
    "                )\n",
    "            \n",
    "        with open('product_title_calories_json.json', 'a', encoding='utf-8') as file:\n",
    "                json.dump(product_title_calories, file, indent=4, ensure_ascii=False)"
   ]
  },
  {
   "cell_type": "markdown",
   "id": "fe37cbd6-fc44-439e-a4b8-9d4a85503b8f",
   "metadata": {},
   "source": [
    "результаты хранятся в файлах `product_title_calories_csv.csv` и `product_title_calories_json.json`"
   ]
  }
 ],
 "metadata": {
  "kernelspec": {
   "display_name": "Python 3 (ipykernel)",
   "language": "python",
   "name": "python3"
  },
  "language_info": {
   "codemirror_mode": {
    "name": "ipython",
    "version": 3
   },
   "file_extension": ".py",
   "mimetype": "text/x-python",
   "name": "python",
   "nbconvert_exporter": "python",
   "pygments_lexer": "ipython3",
   "version": "3.12.4"
  }
 },
 "nbformat": 4,
 "nbformat_minor": 5
}
