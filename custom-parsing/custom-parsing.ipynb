{
 "cells": [
  {
   "cell_type": "code",
   "execution_count": 1,
   "id": "511cc866-9156-40dd-bee9-0811abe56de5",
   "metadata": {},
   "outputs": [
    {
     "name": "stdout",
     "output_type": "stream",
     "text": [
      "Requirement already satisfied: beautifulsoup4 in c:\\users\\user\\appdata\\local\\programs\\python\\python312\\lib\\site-packages (4.12.3)\n",
      "Requirement already satisfied: lxml in c:\\users\\user\\appdata\\local\\programs\\python\\python312\\lib\\site-packages (5.2.2)\n",
      "Requirement already satisfied: soupsieve>1.2 in c:\\users\\user\\appdata\\local\\programs\\python\\python312\\lib\\site-packages (from beautifulsoup4) (2.5)\n"
     ]
    }
   ],
   "source": [
    "!pip install beautifulsoup4 lxml"
   ]
  },
  {
   "cell_type": "code",
   "execution_count": 45,
   "id": "84952a88-99a1-44ca-8eed-7665d75aad44",
   "metadata": {},
   "outputs": [],
   "source": [
    "from bs4 import BeautifulSoup\n",
    "import re"
   ]
  },
  {
   "cell_type": "code",
   "execution_count": 5,
   "id": "fe431f69-3857-418c-8268-0619eeb79512",
   "metadata": {},
   "outputs": [
    {
     "data": {
      "text/plain": [
       "<title>Изучаем парсинг</title>"
      ]
     },
     "execution_count": 5,
     "metadata": {},
     "output_type": "execute_result"
    }
   ],
   "source": [
    "title = soup.title\n",
    "title"
   ]
  },
  {
   "cell_type": "code",
   "execution_count": 6,
   "id": "a0d0faf5-0bc5-47ac-97a8-9b58b38403ed",
   "metadata": {},
   "outputs": [
    {
     "data": {
      "text/plain": [
       "'Изучаем парсинг'"
      ]
     },
     "execution_count": 6,
     "metadata": {},
     "output_type": "execute_result"
    }
   ],
   "source": [
    "title.text"
   ]
  },
  {
   "cell_type": "markdown",
   "id": "3dfb9574-4c9e-4331-b2ab-308be6c38e5b",
   "metadata": {},
   "source": [
    "## `.find() .find_all()` работают сверху вниз"
   ]
  },
  {
   "cell_type": "code",
   "execution_count": 7,
   "id": "13ab0fdb-db6a-4097-aa68-24691c896c5c",
   "metadata": {},
   "outputs": [
    {
     "data": {
      "text/plain": [
       "'Страница пользователя Nazym'"
      ]
     },
     "execution_count": 7,
     "metadata": {},
     "output_type": "execute_result"
    }
   ],
   "source": [
    "page_h1 = soup.find('h1')\n",
    "page_h1.string"
   ]
  },
  {
   "cell_type": "code",
   "execution_count": 9,
   "id": "cc57ff93-8db6-4f81-8538-8e5588a8f400",
   "metadata": {},
   "outputs": [
    {
     "data": {
      "text/plain": [
       "[<h1>Страница пользователя Nazym</h1>, <h1>Еще один h1 заголовок</h1>]"
      ]
     },
     "execution_count": 9,
     "metadata": {},
     "output_type": "execute_result"
    }
   ],
   "source": [
    "page_all_h1 = soup.find_all('h1')\n",
    "page_all_h1"
   ]
  },
  {
   "cell_type": "code",
   "execution_count": 10,
   "id": "f7db9cb0-625a-490e-ad7e-cba1713dd7cd",
   "metadata": {},
   "outputs": [
    {
     "name": "stdout",
     "output_type": "stream",
     "text": [
      "Страница пользователя Nazym\n",
      "Еще один h1 заголовок\n"
     ]
    }
   ],
   "source": [
    "for h1 in page_all_h1:\n",
    "    print(h1.text)"
   ]
  },
  {
   "cell_type": "code",
   "execution_count": 11,
   "id": "79e73ce5-b402-4719-8fe5-3846f2ca55ef",
   "metadata": {},
   "outputs": [
    {
     "data": {
      "text/plain": [
       "<div class=\"user__name\" id=\"aaa\">\n",
       "<span>Nazym</span>\n",
       "</div>"
      ]
     },
     "execution_count": 11,
     "metadata": {},
     "output_type": "execute_result"
    }
   ],
   "source": [
    "user_name = soup.find('div', class_='user__name')\n",
    "user_name"
   ]
  },
  {
   "cell_type": "code",
   "execution_count": 12,
   "id": "58ae8c02-3ccb-430c-aca2-91f64589a249",
   "metadata": {},
   "outputs": [
    {
     "data": {
      "text/plain": [
       "'\\nNazym\\n'"
      ]
     },
     "execution_count": 12,
     "metadata": {},
     "output_type": "execute_result"
    }
   ],
   "source": [
    "user_name.text "
   ]
  },
  {
   "cell_type": "code",
   "execution_count": 13,
   "id": "70279323-ed40-4d0c-b823-dcf0544b209a",
   "metadata": {},
   "outputs": [
    {
     "data": {
      "text/plain": [
       "'Nazym'"
      ]
     },
     "execution_count": 13,
     "metadata": {},
     "output_type": "execute_result"
    }
   ],
   "source": [
    "user_name.text.strip() # так как выше вышли и `\\n`"
   ]
  },
  {
   "cell_type": "code",
   "execution_count": 15,
   "id": "6bb62818-278c-45f1-a9b5-617d5be6f010",
   "metadata": {},
   "outputs": [
    {
     "data": {
      "text/plain": [
       "'Nazym'"
      ]
     },
     "execution_count": 15,
     "metadata": {},
     "output_type": "execute_result"
    }
   ],
   "source": [
    "user_name = soup.find(class_='user__name').find('span').text\n",
    "user_name"
   ]
  },
  {
   "cell_type": "code",
   "execution_count": 16,
   "id": "312ccb90-d4aa-450f-9e5c-5acab9dc1f60",
   "metadata": {},
   "outputs": [
    {
     "data": {
      "text/plain": [
       "'Nazym'"
      ]
     },
     "execution_count": 16,
     "metadata": {},
     "output_type": "execute_result"
    }
   ],
   "source": [
    "user_name = soup.find('div', {'class': 'user__name',\n",
    "                              'id': 'aaa'\n",
    "                             }).find('span').text\n",
    "user_name"
   ]
  },
  {
   "cell_type": "code",
   "execution_count": 17,
   "id": "3d1ae062-8682-449c-927c-636f22d4ae37",
   "metadata": {},
   "outputs": [
    {
     "data": {
      "text/plain": [
       "[<span>Nazym</span>,\n",
       " <span>Дата:</span>,\n",
       " <span>25.06.2024</span>,\n",
       " <span class=\"city__label\">Город:</span>,\n",
       " <span>Los Angeles</span>]"
      ]
     },
     "execution_count": 17,
     "metadata": {},
     "output_type": "execute_result"
    }
   ],
   "source": [
    "find_all_spans_in_user_info = soup.find(class_='user__info').find_all('span')\n",
    "find_all_spans_in_user_info"
   ]
  },
  {
   "cell_type": "code",
   "execution_count": 18,
   "id": "39a6d915-cc5c-4c87-8585-9e9173c57e2b",
   "metadata": {},
   "outputs": [
    {
     "name": "stdout",
     "output_type": "stream",
     "text": [
      "Nazym\n",
      "Дата:\n",
      "25.06.2024\n",
      "Город:\n",
      "Los Angeles\n"
     ]
    }
   ],
   "source": [
    "for span in find_all_spans_in_user_info:\n",
    "    print(span.text)"
   ]
  },
  {
   "cell_type": "code",
   "execution_count": 19,
   "id": "563e5a11-c030-4e08-9924-8e695326da44",
   "metadata": {},
   "outputs": [
    {
     "data": {
      "text/plain": [
       "<span>Nazym</span>"
      ]
     },
     "execution_count": 19,
     "metadata": {},
     "output_type": "execute_result"
    }
   ],
   "source": [
    "find_all_spans_in_user_info[0]"
   ]
  },
  {
   "cell_type": "code",
   "execution_count": 20,
   "id": "9cf8adbc-7392-4ea0-b05a-16ac0f9d4e4c",
   "metadata": {},
   "outputs": [
    {
     "data": {
      "text/plain": [
       "'Nazym'"
      ]
     },
     "execution_count": 20,
     "metadata": {},
     "output_type": "execute_result"
    }
   ],
   "source": [
    "find_all_spans_in_user_info[0].text"
   ]
  },
  {
   "cell_type": "code",
   "execution_count": 21,
   "id": "0c50e688-054a-4179-80f4-1ddd41b3f3e5",
   "metadata": {},
   "outputs": [
    {
     "data": {
      "text/plain": [
       "[<a href=\"http://instagram.com/username\">Instagram</a>,\n",
       " <a href=\"http://twitter.com/username\">Twitter</a>,\n",
       " <a href=\"http://youtube.com/username\">Youtube</a>]"
      ]
     },
     "execution_count": 21,
     "metadata": {},
     "output_type": "execute_result"
    }
   ],
   "source": [
    "social_links = soup.find(class_='social__networks').find('ul').find_all('a')\n",
    "social_links"
   ]
  },
  {
   "cell_type": "code",
   "execution_count": 22,
   "id": "864153e5-2f44-43dd-8f5d-380b8716d235",
   "metadata": {},
   "outputs": [
    {
     "data": {
      "text/plain": [
       "[<a href=\"http://instagram.com/username\">Instagram</a>,\n",
       " <a href=\"http://twitter.com/username\">Twitter</a>,\n",
       " <a href=\"http://youtube.com/username\">Youtube</a>,\n",
       " <a data-attr=\"shop_link\" href=\"/supermarket/\">Супермаркет</a>,\n",
       " <a data-attr=\"777\" href=\"/clothes/\">Одежда</a>]"
      ]
     },
     "execution_count": 22,
     "metadata": {},
     "output_type": "execute_result"
    }
   ],
   "source": [
    "all_a = soup.find_all('a')\n",
    "all_a # hmmm тут выходят все ссылки не соц сети"
   ]
  },
  {
   "cell_type": "code",
   "execution_count": 24,
   "id": "344e5084-ecc0-4c81-9cd2-1068dcf76d43",
   "metadata": {},
   "outputs": [
    {
     "name": "stdout",
     "output_type": "stream",
     "text": [
      "Instagram: http://instagram.com/username\n",
      "Twitter: http://twitter.com/username\n",
      "Youtube: http://youtube.com/username\n",
      "Супермаркет: /supermarket/\n",
      "Одежда: /clothes/\n"
     ]
    }
   ],
   "source": [
    "for hyperlink in all_a:\n",
    "    hyperlink_url = hyperlink.get('href')\n",
    "    hyperlink_text = hyperlink.text\n",
    "    print(f'{hyperlink_text}: {hyperlink_url}')"
   ]
  },
  {
   "cell_type": "markdown",
   "id": "87434c02-5b55-44ab-9dec-0b255d4b2765",
   "metadata": {},
   "source": [
    "## `.find_parent() .find_parents()` - снизу вверх"
   ]
  },
  {
   "cell_type": "code",
   "execution_count": 25,
   "id": "48e54a2c-6a4e-4519-8e03-fd7ed74552dd",
   "metadata": {},
   "outputs": [
    {
     "data": {
      "text/plain": [
       "<div class=\"user__post__info\">\n",
       "<div class=\"post__title\">\n",
       "<h3>h3 заголовок</h3>\n",
       "</div>\n",
       "<div class=\"post__date\">\n",
       "                    01.01.2024\n",
       "                </div>\n",
       "<div class=\"post__text\">\n",
       "                    Lorem ipsum dolor sit amet, consectetur adipiscing elit, sed do eiusmod tempor incididunt ut labore\n",
       "                    et dolore magna aliqua. Vitae justo eget magna fermentum iaculis eu. Nibh sit amet commodo nulla\n",
       "                    facilisi nullam vehicula ipsum. Elit pellentesque habitant morbi tristique senectus et netus et\n",
       "                    malesuada.\n",
       "                </div>\n",
       "</div>"
      ]
     },
     "execution_count": 25,
     "metadata": {},
     "output_type": "execute_result"
    }
   ],
   "source": [
    "post_parent = soup.find(class_='post__text').find_parent()\n",
    "post_parent"
   ]
  },
  {
   "cell_type": "code",
   "execution_count": 26,
   "id": "8e9a8504-383a-429c-b193-58934e40a656",
   "metadata": {},
   "outputs": [
    {
     "data": {
      "text/plain": [
       "<div class=\"user__post\">\n",
       "<div class=\"user__post__info\">\n",
       "<div class=\"post__title\">\n",
       "<h3>h3 заголовок</h3>\n",
       "</div>\n",
       "<div class=\"post__date\">\n",
       "                    01.01.2024\n",
       "                </div>\n",
       "<div class=\"post__text\">\n",
       "                    Lorem ipsum dolor sit amet, consectetur adipiscing elit, sed do eiusmod tempor incididunt ut labore\n",
       "                    et dolore magna aliqua. Vitae justo eget magna fermentum iaculis eu. Nibh sit amet commodo nulla\n",
       "                    facilisi nullam vehicula ipsum. Elit pellentesque habitant morbi tristique senectus et netus et\n",
       "                    malesuada.\n",
       "                </div>\n",
       "</div>\n",
       "</div>"
      ]
     },
     "execution_count": 26,
     "metadata": {},
     "output_type": "execute_result"
    }
   ],
   "source": [
    "post_parent_before_explicit = soup.find(class_='post__text').find_parent('div', 'user__post') # get parent before and explicit that parent `user__post`\n",
    "post_parent_before_explicit"
   ]
  },
  {
   "cell_type": "code",
   "execution_count": 28,
   "id": "102f3849-88a9-48ab-aeac-7387849a6d29",
   "metadata": {},
   "outputs": [
    {
     "data": {
      "text/plain": [
       "[<div class=\"user__post__info\">\n",
       " <div class=\"post__title\">\n",
       " <h3>h3 заголовок</h3>\n",
       " </div>\n",
       " <div class=\"post__date\">\n",
       "                     01.01.2024\n",
       "                 </div>\n",
       " <div class=\"post__text\">\n",
       "                     Lorem ipsum dolor sit amet, consectetur adipiscing elit, sed do eiusmod tempor incididunt ut labore\n",
       "                     et dolore magna aliqua. Vitae justo eget magna fermentum iaculis eu. Nibh sit amet commodo nulla\n",
       "                     facilisi nullam vehicula ipsum. Elit pellentesque habitant morbi tristique senectus et netus et\n",
       "                     malesuada.\n",
       "                 </div>\n",
       " </div>,\n",
       " <div class=\"user__post\">\n",
       " <div class=\"user__post__info\">\n",
       " <div class=\"post__title\">\n",
       " <h3>h3 заголовок</h3>\n",
       " </div>\n",
       " <div class=\"post__date\">\n",
       "                     01.01.2024\n",
       "                 </div>\n",
       " <div class=\"post__text\">\n",
       "                     Lorem ipsum dolor sit amet, consectetur adipiscing elit, sed do eiusmod tempor incididunt ut labore\n",
       "                     et dolore magna aliqua. Vitae justo eget magna fermentum iaculis eu. Nibh sit amet commodo nulla\n",
       "                     facilisi nullam vehicula ipsum. Elit pellentesque habitant morbi tristique senectus et netus et\n",
       "                     malesuada.\n",
       "                 </div>\n",
       " </div>\n",
       " </div>,\n",
       " <div class=\"user__blog__wall\">\n",
       " <div class=\"blog__title\">Блог</div>\n",
       " <div class=\"user__post\">\n",
       " <div class=\"user__post__info\">\n",
       " <div class=\"post__title\">\n",
       " <h3>h3 заголовок</h3>\n",
       " </div>\n",
       " <div class=\"post__date\">\n",
       "                     01.01.2024\n",
       "                 </div>\n",
       " <div class=\"post__text\">\n",
       "                     Lorem ipsum dolor sit amet, consectetur adipiscing elit, sed do eiusmod tempor incididunt ut labore\n",
       "                     et dolore magna aliqua. Vitae justo eget magna fermentum iaculis eu. Nibh sit amet commodo nulla\n",
       "                     facilisi nullam vehicula ipsum. Elit pellentesque habitant morbi tristique senectus et netus et\n",
       "                     malesuada.\n",
       "                 </div>\n",
       " </div>\n",
       " </div>\n",
       " <div class=\"user__post\">\n",
       " <div class=\"user__post__info\">\n",
       " <div class=\"post__title\">\n",
       " <h3>Hack</h3>\n",
       " </div>\n",
       " <div class=\"post__text\">\n",
       "                     Semper risus in hendrerit gravida rutrum quisque. Imperdiet sed euismod nisi porta lorem mollis\n",
       "                     aliquam. Blandit massa enim nec dui nunc mattis enim. Enim neque volutpat ac tincidunt vitae semper.\n",
       "                 </div>\n",
       " </div>\n",
       " </div>\n",
       " <div class=\"user__post\">\n",
       " <div class=\"user__post__info\">\n",
       " <div class=\"post__title\">\n",
       " <h3>Hello world h3</h3>\n",
       " </div>\n",
       " <div class=\"post__text\">\n",
       "                     Lobortis scelerisque fermentum dui faucibus in ornare quam viverra orci. Eget lorem dolor sed\n",
       "                     viverra ipsum nunc aliquet. Nunc id cursus metus aliquam eleifend mi in nulla. Aliquam id diam\n",
       "                     maecenas ultricies mi eget mauris pharetra. Ut tortor pretium viverra suspendisse potenti.\n",
       "                 </div>\n",
       " </div>\n",
       " </div>\n",
       " </div>,\n",
       " <div class=\"container\">\n",
       " <h1>Страница пользователя Nazym</h1>\n",
       " <h1>Еще один h1 заголовок</h1>\n",
       " <div class=\"user__data\">\n",
       " <div class=\"user__avatar\">\n",
       " <img alt=\"\" src=\"user_avatar.jpg\"/>\n",
       " </div>\n",
       " <div class=\"user__info\">\n",
       " <div class=\"user__name\" id=\"aaa\">\n",
       " <span>Nazym</span>\n",
       " </div>\n",
       " <div class=\"user__birth__date\">\n",
       " <span>Дата:</span>\n",
       " <span>25.06.2024</span>\n",
       " </div>\n",
       " <div class=\"user__city\">\n",
       " <span class=\"city__label\">Город:</span>\n",
       " <span>Los Angeles</span>\n",
       " </div>\n",
       " <div class=\"social__networks\">\n",
       " <p>Ссылки на соц.сети:</p>\n",
       " <ul>\n",
       " <li>\n",
       " <a href=\"http://instagram.com/username\">Instagram</a>\n",
       " </li>\n",
       " <li>\n",
       " <a href=\"http://twitter.com/username\">Twitter</a>\n",
       " </li>\n",
       " <li>\n",
       " <a href=\"http://youtube.com/username\">Youtube</a>\n",
       " </li>\n",
       " </ul>\n",
       " </div>\n",
       " </div>\n",
       " </div>\n",
       " <div class=\"user__blog__wall\">\n",
       " <div class=\"blog__title\">Блог</div>\n",
       " <div class=\"user__post\">\n",
       " <div class=\"user__post__info\">\n",
       " <div class=\"post__title\">\n",
       " <h3>h3 заголовок</h3>\n",
       " </div>\n",
       " <div class=\"post__date\">\n",
       "                     01.01.2024\n",
       "                 </div>\n",
       " <div class=\"post__text\">\n",
       "                     Lorem ipsum dolor sit amet, consectetur adipiscing elit, sed do eiusmod tempor incididunt ut labore\n",
       "                     et dolore magna aliqua. Vitae justo eget magna fermentum iaculis eu. Nibh sit amet commodo nulla\n",
       "                     facilisi nullam vehicula ipsum. Elit pellentesque habitant morbi tristique senectus et netus et\n",
       "                     malesuada.\n",
       "                 </div>\n",
       " </div>\n",
       " </div>\n",
       " <div class=\"user__post\">\n",
       " <div class=\"user__post__info\">\n",
       " <div class=\"post__title\">\n",
       " <h3>Hack</h3>\n",
       " </div>\n",
       " <div class=\"post__text\">\n",
       "                     Semper risus in hendrerit gravida rutrum quisque. Imperdiet sed euismod nisi porta lorem mollis\n",
       "                     aliquam. Blandit massa enim nec dui nunc mattis enim. Enim neque volutpat ac tincidunt vitae semper.\n",
       "                 </div>\n",
       " </div>\n",
       " </div>\n",
       " <div class=\"user__post\">\n",
       " <div class=\"user__post__info\">\n",
       " <div class=\"post__title\">\n",
       " <h3>Hello world h3</h3>\n",
       " </div>\n",
       " <div class=\"post__text\">\n",
       "                     Lobortis scelerisque fermentum dui faucibus in ornare quam viverra orci. Eget lorem dolor sed\n",
       "                     viverra ipsum nunc aliquet. Nunc id cursus metus aliquam eleifend mi in nulla. Aliquam id diam\n",
       "                     maecenas ultricies mi eget mauris pharetra. Ut tortor pretium viverra suspendisse potenti.\n",
       "                 </div>\n",
       " </div>\n",
       " </div>\n",
       " </div>\n",
       " <div class=\"some__links\">\n",
       " <a data-attr=\"shop_link\" href=\"/supermarket/\">Супермаркет</a>\n",
       " <a data-attr=\"777\" href=\"/clothes/\">Одежда</a>\n",
       " </div>\n",
       " </div>,\n",
       " <body>\n",
       " <div class=\"container\">\n",
       " <h1>Страница пользователя Nazym</h1>\n",
       " <h1>Еще один h1 заголовок</h1>\n",
       " <div class=\"user__data\">\n",
       " <div class=\"user__avatar\">\n",
       " <img alt=\"\" src=\"user_avatar.jpg\"/>\n",
       " </div>\n",
       " <div class=\"user__info\">\n",
       " <div class=\"user__name\" id=\"aaa\">\n",
       " <span>Nazym</span>\n",
       " </div>\n",
       " <div class=\"user__birth__date\">\n",
       " <span>Дата:</span>\n",
       " <span>25.06.2024</span>\n",
       " </div>\n",
       " <div class=\"user__city\">\n",
       " <span class=\"city__label\">Город:</span>\n",
       " <span>Los Angeles</span>\n",
       " </div>\n",
       " <div class=\"social__networks\">\n",
       " <p>Ссылки на соц.сети:</p>\n",
       " <ul>\n",
       " <li>\n",
       " <a href=\"http://instagram.com/username\">Instagram</a>\n",
       " </li>\n",
       " <li>\n",
       " <a href=\"http://twitter.com/username\">Twitter</a>\n",
       " </li>\n",
       " <li>\n",
       " <a href=\"http://youtube.com/username\">Youtube</a>\n",
       " </li>\n",
       " </ul>\n",
       " </div>\n",
       " </div>\n",
       " </div>\n",
       " <div class=\"user__blog__wall\">\n",
       " <div class=\"blog__title\">Блог</div>\n",
       " <div class=\"user__post\">\n",
       " <div class=\"user__post__info\">\n",
       " <div class=\"post__title\">\n",
       " <h3>h3 заголовок</h3>\n",
       " </div>\n",
       " <div class=\"post__date\">\n",
       "                     01.01.2024\n",
       "                 </div>\n",
       " <div class=\"post__text\">\n",
       "                     Lorem ipsum dolor sit amet, consectetur adipiscing elit, sed do eiusmod tempor incididunt ut labore\n",
       "                     et dolore magna aliqua. Vitae justo eget magna fermentum iaculis eu. Nibh sit amet commodo nulla\n",
       "                     facilisi nullam vehicula ipsum. Elit pellentesque habitant morbi tristique senectus et netus et\n",
       "                     malesuada.\n",
       "                 </div>\n",
       " </div>\n",
       " </div>\n",
       " <div class=\"user__post\">\n",
       " <div class=\"user__post__info\">\n",
       " <div class=\"post__title\">\n",
       " <h3>Hack</h3>\n",
       " </div>\n",
       " <div class=\"post__text\">\n",
       "                     Semper risus in hendrerit gravida rutrum quisque. Imperdiet sed euismod nisi porta lorem mollis\n",
       "                     aliquam. Blandit massa enim nec dui nunc mattis enim. Enim neque volutpat ac tincidunt vitae semper.\n",
       "                 </div>\n",
       " </div>\n",
       " </div>\n",
       " <div class=\"user__post\">\n",
       " <div class=\"user__post__info\">\n",
       " <div class=\"post__title\">\n",
       " <h3>Hello world h3</h3>\n",
       " </div>\n",
       " <div class=\"post__text\">\n",
       "                     Lobortis scelerisque fermentum dui faucibus in ornare quam viverra orci. Eget lorem dolor sed\n",
       "                     viverra ipsum nunc aliquet. Nunc id cursus metus aliquam eleifend mi in nulla. Aliquam id diam\n",
       "                     maecenas ultricies mi eget mauris pharetra. Ut tortor pretium viverra suspendisse potenti.\n",
       "                 </div>\n",
       " </div>\n",
       " </div>\n",
       " </div>\n",
       " <div class=\"some__links\">\n",
       " <a data-attr=\"shop_link\" href=\"/supermarket/\">Супермаркет</a>\n",
       " <a data-attr=\"777\" href=\"/clothes/\">Одежда</a>\n",
       " </div>\n",
       " </div>\n",
       " </body>,\n",
       " <html lang=\"en\">\n",
       " <head>\n",
       " <meta charset=\"utf-8\"/>\n",
       " <title>Изучаем парсинг</title>\n",
       " <link href=\"style.css\" rel=\"stylesheet\"/>\n",
       " </head>\n",
       " <body>\n",
       " <div class=\"container\">\n",
       " <h1>Страница пользователя Nazym</h1>\n",
       " <h1>Еще один h1 заголовок</h1>\n",
       " <div class=\"user__data\">\n",
       " <div class=\"user__avatar\">\n",
       " <img alt=\"\" src=\"user_avatar.jpg\"/>\n",
       " </div>\n",
       " <div class=\"user__info\">\n",
       " <div class=\"user__name\" id=\"aaa\">\n",
       " <span>Nazym</span>\n",
       " </div>\n",
       " <div class=\"user__birth__date\">\n",
       " <span>Дата:</span>\n",
       " <span>25.06.2024</span>\n",
       " </div>\n",
       " <div class=\"user__city\">\n",
       " <span class=\"city__label\">Город:</span>\n",
       " <span>Los Angeles</span>\n",
       " </div>\n",
       " <div class=\"social__networks\">\n",
       " <p>Ссылки на соц.сети:</p>\n",
       " <ul>\n",
       " <li>\n",
       " <a href=\"http://instagram.com/username\">Instagram</a>\n",
       " </li>\n",
       " <li>\n",
       " <a href=\"http://twitter.com/username\">Twitter</a>\n",
       " </li>\n",
       " <li>\n",
       " <a href=\"http://youtube.com/username\">Youtube</a>\n",
       " </li>\n",
       " </ul>\n",
       " </div>\n",
       " </div>\n",
       " </div>\n",
       " <div class=\"user__blog__wall\">\n",
       " <div class=\"blog__title\">Блог</div>\n",
       " <div class=\"user__post\">\n",
       " <div class=\"user__post__info\">\n",
       " <div class=\"post__title\">\n",
       " <h3>h3 заголовок</h3>\n",
       " </div>\n",
       " <div class=\"post__date\">\n",
       "                     01.01.2024\n",
       "                 </div>\n",
       " <div class=\"post__text\">\n",
       "                     Lorem ipsum dolor sit amet, consectetur adipiscing elit, sed do eiusmod tempor incididunt ut labore\n",
       "                     et dolore magna aliqua. Vitae justo eget magna fermentum iaculis eu. Nibh sit amet commodo nulla\n",
       "                     facilisi nullam vehicula ipsum. Elit pellentesque habitant morbi tristique senectus et netus et\n",
       "                     malesuada.\n",
       "                 </div>\n",
       " </div>\n",
       " </div>\n",
       " <div class=\"user__post\">\n",
       " <div class=\"user__post__info\">\n",
       " <div class=\"post__title\">\n",
       " <h3>Hack</h3>\n",
       " </div>\n",
       " <div class=\"post__text\">\n",
       "                     Semper risus in hendrerit gravida rutrum quisque. Imperdiet sed euismod nisi porta lorem mollis\n",
       "                     aliquam. Blandit massa enim nec dui nunc mattis enim. Enim neque volutpat ac tincidunt vitae semper.\n",
       "                 </div>\n",
       " </div>\n",
       " </div>\n",
       " <div class=\"user__post\">\n",
       " <div class=\"user__post__info\">\n",
       " <div class=\"post__title\">\n",
       " <h3>Hello world h3</h3>\n",
       " </div>\n",
       " <div class=\"post__text\">\n",
       "                     Lobortis scelerisque fermentum dui faucibus in ornare quam viverra orci. Eget lorem dolor sed\n",
       "                     viverra ipsum nunc aliquet. Nunc id cursus metus aliquam eleifend mi in nulla. Aliquam id diam\n",
       "                     maecenas ultricies mi eget mauris pharetra. Ut tortor pretium viverra suspendisse potenti.\n",
       "                 </div>\n",
       " </div>\n",
       " </div>\n",
       " </div>\n",
       " <div class=\"some__links\">\n",
       " <a data-attr=\"shop_link\" href=\"/supermarket/\">Супермаркет</a>\n",
       " <a data-attr=\"777\" href=\"/clothes/\">Одежда</a>\n",
       " </div>\n",
       " </div>\n",
       " </body>\n",
       " </html>,\n",
       " <!DOCTYPE html>\n",
       " <html lang=\"en\">\n",
       " <head>\n",
       " <meta charset=\"utf-8\"/>\n",
       " <title>Изучаем парсинг</title>\n",
       " <link href=\"style.css\" rel=\"stylesheet\"/>\n",
       " </head>\n",
       " <body>\n",
       " <div class=\"container\">\n",
       " <h1>Страница пользователя Nazym</h1>\n",
       " <h1>Еще один h1 заголовок</h1>\n",
       " <div class=\"user__data\">\n",
       " <div class=\"user__avatar\">\n",
       " <img alt=\"\" src=\"user_avatar.jpg\"/>\n",
       " </div>\n",
       " <div class=\"user__info\">\n",
       " <div class=\"user__name\" id=\"aaa\">\n",
       " <span>Nazym</span>\n",
       " </div>\n",
       " <div class=\"user__birth__date\">\n",
       " <span>Дата:</span>\n",
       " <span>25.06.2024</span>\n",
       " </div>\n",
       " <div class=\"user__city\">\n",
       " <span class=\"city__label\">Город:</span>\n",
       " <span>Los Angeles</span>\n",
       " </div>\n",
       " <div class=\"social__networks\">\n",
       " <p>Ссылки на соц.сети:</p>\n",
       " <ul>\n",
       " <li>\n",
       " <a href=\"http://instagram.com/username\">Instagram</a>\n",
       " </li>\n",
       " <li>\n",
       " <a href=\"http://twitter.com/username\">Twitter</a>\n",
       " </li>\n",
       " <li>\n",
       " <a href=\"http://youtube.com/username\">Youtube</a>\n",
       " </li>\n",
       " </ul>\n",
       " </div>\n",
       " </div>\n",
       " </div>\n",
       " <div class=\"user__blog__wall\">\n",
       " <div class=\"blog__title\">Блог</div>\n",
       " <div class=\"user__post\">\n",
       " <div class=\"user__post__info\">\n",
       " <div class=\"post__title\">\n",
       " <h3>h3 заголовок</h3>\n",
       " </div>\n",
       " <div class=\"post__date\">\n",
       "                     01.01.2024\n",
       "                 </div>\n",
       " <div class=\"post__text\">\n",
       "                     Lorem ipsum dolor sit amet, consectetur adipiscing elit, sed do eiusmod tempor incididunt ut labore\n",
       "                     et dolore magna aliqua. Vitae justo eget magna fermentum iaculis eu. Nibh sit amet commodo nulla\n",
       "                     facilisi nullam vehicula ipsum. Elit pellentesque habitant morbi tristique senectus et netus et\n",
       "                     malesuada.\n",
       "                 </div>\n",
       " </div>\n",
       " </div>\n",
       " <div class=\"user__post\">\n",
       " <div class=\"user__post__info\">\n",
       " <div class=\"post__title\">\n",
       " <h3>Hack</h3>\n",
       " </div>\n",
       " <div class=\"post__text\">\n",
       "                     Semper risus in hendrerit gravida rutrum quisque. Imperdiet sed euismod nisi porta lorem mollis\n",
       "                     aliquam. Blandit massa enim nec dui nunc mattis enim. Enim neque volutpat ac tincidunt vitae semper.\n",
       "                 </div>\n",
       " </div>\n",
       " </div>\n",
       " <div class=\"user__post\">\n",
       " <div class=\"user__post__info\">\n",
       " <div class=\"post__title\">\n",
       " <h3>Hello world h3</h3>\n",
       " </div>\n",
       " <div class=\"post__text\">\n",
       "                     Lobortis scelerisque fermentum dui faucibus in ornare quam viverra orci. Eget lorem dolor sed\n",
       "                     viverra ipsum nunc aliquet. Nunc id cursus metus aliquam eleifend mi in nulla. Aliquam id diam\n",
       "                     maecenas ultricies mi eget mauris pharetra. Ut tortor pretium viverra suspendisse potenti.\n",
       "                 </div>\n",
       " </div>\n",
       " </div>\n",
       " </div>\n",
       " <div class=\"some__links\">\n",
       " <a data-attr=\"shop_link\" href=\"/supermarket/\">Супермаркет</a>\n",
       " <a data-attr=\"777\" href=\"/clothes/\">Одежда</a>\n",
       " </div>\n",
       " </div>\n",
       " </body>\n",
       " </html>]"
      ]
     },
     "execution_count": 28,
     "metadata": {},
     "output_type": "execute_result"
    }
   ],
   "source": [
    "post_text_parents = soup.find(class_='post__text').find_parents()\n",
    "post_text_parents"
   ]
  },
  {
   "cell_type": "code",
   "execution_count": 29,
   "id": "de8503bb-dfd8-4b02-9448-21357f74ab5c",
   "metadata": {},
   "outputs": [
    {
     "data": {
      "text/plain": [
       "[<div class=\"user__post\">\n",
       " <div class=\"user__post__info\">\n",
       " <div class=\"post__title\">\n",
       " <h3>h3 заголовок</h3>\n",
       " </div>\n",
       " <div class=\"post__date\">\n",
       "                     01.01.2024\n",
       "                 </div>\n",
       " <div class=\"post__text\">\n",
       "                     Lorem ipsum dolor sit amet, consectetur adipiscing elit, sed do eiusmod tempor incididunt ut labore\n",
       "                     et dolore magna aliqua. Vitae justo eget magna fermentum iaculis eu. Nibh sit amet commodo nulla\n",
       "                     facilisi nullam vehicula ipsum. Elit pellentesque habitant morbi tristique senectus et netus et\n",
       "                     malesuada.\n",
       "                 </div>\n",
       " </div>\n",
       " </div>]"
      ]
     },
     "execution_count": 29,
     "metadata": {},
     "output_type": "execute_result"
    }
   ],
   "source": [
    "post_text_parents_before = soup.find(class_='post__text').find_parents('div', 'user__post')\n",
    "post_text_parents_before"
   ]
  },
  {
   "cell_type": "markdown",
   "id": "ea2dca33-4912-4850-91fa-fab4dc23c295",
   "metadata": {},
   "source": [
    "## `.next_element`, `.find_next()`, `.previous_element`, `.find_previous()`"
   ]
  },
  {
   "cell_type": "code",
   "execution_count": 30,
   "id": "9b1adb23-12cc-49b0-8fe5-8a2a63fc7370",
   "metadata": {},
   "outputs": [
    {
     "data": {
      "text/plain": [
       "'\\n'"
      ]
     },
     "execution_count": 30,
     "metadata": {},
     "output_type": "execute_result"
    }
   ],
   "source": [
    "soup.find(class_='post__title').next_element"
   ]
  },
  {
   "cell_type": "code",
   "execution_count": 31,
   "id": "05f57d56-69f7-4d01-85ec-43e045cfdb26",
   "metadata": {},
   "outputs": [
    {
     "data": {
      "text/plain": [
       "<h3>h3 заголовок</h3>"
      ]
     },
     "execution_count": 31,
     "metadata": {},
     "output_type": "execute_result"
    }
   ],
   "source": [
    "soup.find(class_='post__title').next_element.next_element"
   ]
  },
  {
   "cell_type": "code",
   "execution_count": 32,
   "id": "b7f9b475-5867-4c2c-9d0b-d4e95a7cf698",
   "metadata": {},
   "outputs": [
    {
     "data": {
      "text/plain": [
       "'h3 заголовок'"
      ]
     },
     "execution_count": 32,
     "metadata": {},
     "output_type": "execute_result"
    }
   ],
   "source": [
    "soup.find(class_='post__title').next_element.next_element.text"
   ]
  },
  {
   "cell_type": "code",
   "execution_count": 34,
   "id": "88fbebad-c41f-4efb-b1a7-4c365492d1cb",
   "metadata": {},
   "outputs": [
    {
     "data": {
      "text/plain": [
       "'h3 заголовок'"
      ]
     },
     "execution_count": 34,
     "metadata": {},
     "output_type": "execute_result"
    }
   ],
   "source": [
    "# можно не париться и прост вызвать функцию файнд некст()\n",
    "soup.find(class_='post__title').find_next().text"
   ]
  },
  {
   "cell_type": "code",
   "execution_count": 35,
   "id": "4f80969a-613a-49a9-8998-84faf8e6313c",
   "metadata": {},
   "outputs": [
    {
     "data": {
      "text/plain": [
       "'\\n'"
      ]
     },
     "execution_count": 35,
     "metadata": {},
     "output_type": "execute_result"
    }
   ],
   "source": [
    "soup.find(class_='post__title').previous_element"
   ]
  },
  {
   "cell_type": "code",
   "execution_count": 36,
   "id": "816a41ab-f450-4ebc-b7c4-bdfaec4fa709",
   "metadata": {},
   "outputs": [
    {
     "data": {
      "text/plain": [
       "<div class=\"user__post__info\">\n",
       "<div class=\"post__title\">\n",
       "<h3>h3 заголовок</h3>\n",
       "</div>\n",
       "<div class=\"post__date\">\n",
       "                    01.01.2024\n",
       "                </div>\n",
       "<div class=\"post__text\">\n",
       "                    Lorem ipsum dolor sit amet, consectetur adipiscing elit, sed do eiusmod tempor incididunt ut labore\n",
       "                    et dolore magna aliqua. Vitae justo eget magna fermentum iaculis eu. Nibh sit amet commodo nulla\n",
       "                    facilisi nullam vehicula ipsum. Elit pellentesque habitant morbi tristique senectus et netus et\n",
       "                    malesuada.\n",
       "                </div>\n",
       "</div>"
      ]
     },
     "execution_count": 36,
     "metadata": {},
     "output_type": "execute_result"
    }
   ],
   "source": [
    "soup.find(class_='post__title').find_previous()"
   ]
  },
  {
   "cell_type": "markdown",
   "id": "04e55322-4f46-49d7-a801-1fb88e437553",
   "metadata": {},
   "source": [
    "## `.find_next_sibling()`, `.find_previous_sibling()`"
   ]
  },
  {
   "cell_type": "code",
   "execution_count": 37,
   "id": "4658127a-a7e2-4d44-82a2-8b152bd112e0",
   "metadata": {},
   "outputs": [
    {
     "data": {
      "text/plain": [
       "<div class=\"post__date\">\n",
       "                    01.01.2024\n",
       "                </div>"
      ]
     },
     "execution_count": 37,
     "metadata": {},
     "output_type": "execute_result"
    }
   ],
   "source": [
    "soup.find(class_='post__title').find_next_sibling()"
   ]
  },
  {
   "cell_type": "code",
   "execution_count": 38,
   "id": "ae7687a4-8c5e-45e2-a8f0-8eb0905eb035",
   "metadata": {},
   "outputs": [
    {
     "data": {
      "text/plain": [
       "<div class=\"post__title\">\n",
       "<h3>h3 заголовок</h3>\n",
       "</div>"
      ]
     },
     "execution_count": 38,
     "metadata": {},
     "output_type": "execute_result"
    }
   ],
   "source": [
    "soup.find(class_='post__date').find_previous_sibling()"
   ]
  },
  {
   "cell_type": "code",
   "execution_count": 39,
   "id": "ddce28f9-c442-4686-9fb4-f6c410f18681",
   "metadata": {},
   "outputs": [
    {
     "data": {
      "text/plain": [
       "'h3 заголовок'"
      ]
     },
     "execution_count": 39,
     "metadata": {},
     "output_type": "execute_result"
    }
   ],
   "source": [
    "soup.find(class_='post__date').find_previous_sibling().find_next().text"
   ]
  },
  {
   "cell_type": "code",
   "execution_count": 40,
   "id": "180d2429-72a5-468a-a555-bda694d1789e",
   "metadata": {},
   "outputs": [
    {
     "data": {
      "text/plain": [
       "[<a data-attr=\"shop_link\" href=\"/supermarket/\">Супермаркет</a>,\n",
       " <a data-attr=\"777\" href=\"/clothes/\">Одежда</a>]"
      ]
     },
     "execution_count": 40,
     "metadata": {},
     "output_type": "execute_result"
    }
   ],
   "source": [
    "links = soup.find(class_='some__links').find_all('a')\n",
    "links"
   ]
  },
  {
   "cell_type": "code",
   "execution_count": 41,
   "id": "5fc712c0-d0ac-41a2-91e9-9bd779c8a7d5",
   "metadata": {},
   "outputs": [
    {
     "name": "stdout",
     "output_type": "stream",
     "text": [
      "/supermarket/ shop_link\n",
      "/clothes/ 777\n"
     ]
    }
   ],
   "source": [
    "for link in links:\n",
    "    link_href_attr = link['href']\n",
    "    link_data_attr = link.get('data-attr')\n",
    "    print(link_href_attr, link_data_attr)"
   ]
  },
  {
   "cell_type": "code",
   "execution_count": 43,
   "id": "ccff5ec8-63ff-4fea-89c1-b2f5e8ede860",
   "metadata": {},
   "outputs": [
    {
     "data": {
      "text/plain": [
       "<a data-attr=\"777\" href=\"/clothes/\">Одежда</a>"
      ]
     },
     "execution_count": 43,
     "metadata": {},
     "output_type": "execute_result"
    }
   ],
   "source": [
    "soup.find('a', string='Одежда') # find <a></a> by text"
   ]
  },
  {
   "cell_type": "markdown",
   "id": "0f54c321-4fa8-47f4-92bf-b64f3ca615b5",
   "metadata": {},
   "source": [
    "### регулярные выражения в `BeautifulSoup`"
   ]
  },
  {
   "cell_type": "code",
   "execution_count": 46,
   "id": "20d3fb70-773b-4a22-b803-1dc0b2346f59",
   "metadata": {},
   "outputs": [
    {
     "data": {
      "text/plain": [
       "<a data-attr=\"777\" href=\"/clothes/\">Одежда</a>"
      ]
     },
     "execution_count": 46,
     "metadata": {},
     "output_type": "execute_result"
    }
   ],
   "source": [
    "soup.find('a', string=re.compile('Одежда'))"
   ]
  },
  {
   "cell_type": "code",
   "execution_count": 48,
   "id": "89178bd3-8ead-4214-a1cd-5945337584a2",
   "metadata": {},
   "outputs": [
    {
     "data": {
      "text/plain": [
       "['Одежда']"
      ]
     },
     "execution_count": 48,
     "metadata": {},
     "output_type": "execute_result"
    }
   ],
   "source": [
    "soup.find_all(string=re.compile('[Оо]дежда')) # поикс по двум регистрам"
   ]
  }
 ],
 "metadata": {
  "kernelspec": {
   "display_name": "Python 3 (ipykernel)",
   "language": "python",
   "name": "python3"
  },
  "language_info": {
   "codemirror_mode": {
    "name": "ipython",
    "version": 3
   },
   "file_extension": ".py",
   "mimetype": "text/x-python",
   "name": "python",
   "nbconvert_exporter": "python",
   "pygments_lexer": "ipython3",
   "version": "3.12.4"
  }
 },
 "nbformat": 4,
 "nbformat_minor": 5
}
